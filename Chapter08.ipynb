{
 "cells": [
  {
   "cell_type": "markdown",
   "id": "f83d81fe",
   "metadata": {},
   "source": [
    "<center>\n",
    "<img src=\"https://tensorflowkorea.files.wordpress.com/2020/12/4.-e18492e185a9e186abe1848ce185a1-e18480e185a9e186bce18487e185aee18492e185a1e18482e185b3e186ab-e18486e185a5e18489e185b5e186abe18485e185a5e18482e185b5e186bce18483e185b5e186b8e18485e185a5e.png?w=972\" width=\"250\" height=\"250\"><br>\n",
    "</center>\n",
    "\n",
    "\n",
    " - (https://bit.ly/hg-08-1)\n",
    " \n",
    " \n",
    "# Chapter08. 이미지를 위한 인공 신경망 (패션 럭키백의 정확도를 높인다!)\n",
    "\n",
    "- 학습목표\n",
    "    - 이미지 분류 문제에 뛰어난 성능을 발휘하는 합성곱 신경망의 개념과 구성 요소에 대해 배운다.\n",
    "    - 케라스 API로 합성곱 신경망을 만들어 패션 MNIST 데이터에서 성능을 평가해 본다.\n",
    "    - 합성곱 총의 필터와 활성화 출력을 시각화하여 합성곱 싱경망이 학습한 내용을 고찰해 본다."
   ]
  },
  {
   "cell_type": "code",
   "execution_count": null,
   "id": "c3cd5ab7",
   "metadata": {},
   "outputs": [],
   "source": []
  }
 ],
 "metadata": {
  "kernelspec": {
   "display_name": "Python 3",
   "language": "python",
   "name": "python3"
  },
  "language_info": {
   "codemirror_mode": {
    "name": "ipython",
    "version": 3
   },
   "file_extension": ".py",
   "mimetype": "text/x-python",
   "name": "python",
   "nbconvert_exporter": "python",
   "pygments_lexer": "ipython3",
   "version": "3.6.9"
  }
 },
 "nbformat": 4,
 "nbformat_minor": 5
}
