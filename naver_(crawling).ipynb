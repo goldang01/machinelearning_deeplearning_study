{
 "cells": [
  {
   "cell_type": "code",
   "execution_count": 2,
   "id": "615715dc",
   "metadata": {},
   "outputs": [
    {
     "name": "stdout",
     "output_type": "stream",
     "text": [
      "총 0 개의 뉴스 제목이 있습니다\n",
      "\n"
     ]
    }
   ],
   "source": [
    "import requests\n",
    "from bs4 import BeautifulSoup\n",
    "\n",
    "search_keyword = '애플'\n",
    "url = f'https://search.naver.com/search.naver?where=news&sm=tab_jum&query={search_keyword}'\n",
    "\n",
    "r = requests.get(url)\n",
    "soup = BeautifulSoup(r.text, 'html.parser')\n",
    "news_titles = soup.select('.news .type01 li dt a[title]')\n",
    "\n",
    "print('총', len(news_titles), '개의 뉴스 제목이 있습니다')\n",
    "print()\n",
    "for title in news_titles:\n",
    "    print(title['title'])\n",
    "     \n"
   ]
  },
  {
   "cell_type": "code",
   "execution_count": 6,
   "id": "6726d0b8",
   "metadata": {},
   "outputs": [
    {
     "name": "stdout",
     "output_type": "stream",
     "text": [
      "총 0 개의 뉴스 제목이 있습니다\n",
      "\n"
     ]
    }
   ],
   "source": [
    "import requests\n",
    "from bs4 import BeautifulSoup\n",
    "\n",
    "search_keyword = '애플'\n",
    "url = f'https://search.naver.com/search.naver?where=news&sm=tab_jum&query={search_keyword}'\n",
    "\n",
    "\n",
    "r = requests.get(url)\n",
    "soup = BeautifulSoup(r.text, 'html.parser')\n",
    "news_titles = soup.select('.news .type01 li dt a[title]')\n",
    "\n",
    "print('총', len(news_titles), '개의 뉴스 제목이 있습니다')\n",
    "print()\n",
    "for title in news_titles:\n",
    "    print(title['title'])"
   ]
  },
  {
   "cell_type": "code",
   "execution_count": 5,
   "id": "c8694470",
   "metadata": {},
   "outputs": [
    {
     "data": {
      "text/plain": [
       "[<a class=\"news_tit\" href=\"https://www.sedaily.com/NewsView/22MF571SMB\" onclick=\"return goOtherCR(this, 'a=nws*h.tit&amp;r=1&amp;i=88000108_000000000000000003911911&amp;g=011.0003911911&amp;u='+urlencode(this.href));\" target=\"_blank\" title=\"“애플 잡아라”···삼성-구글 '웨어러블 동맹' 나섰다\">“<mark>애플</mark> 잡아라”···삼성-구글 '웨어러블 동맹' 나섰다</a>,\n",
       " <a class=\"news_tit\" href=\"http://www.newsis.com/view/?id=NISX20210519_0001446244&amp;cID=13001&amp;pID=13000\" onclick=\"return goOtherCR(this, 'a=nws*h.tit&amp;r=5&amp;i=88000127_000000000000000010505572&amp;g=003.0010505572&amp;u='+urlencode(this.href));\" target=\"_blank\" title=\"삼성·애플·이케아…글로벌 기업들, 기후변화 해법 찾는다\">삼성·<mark>애플</mark>·이케아…글로벌 기업들, 기후변화 해법 찾는다</a>,\n",
       " <a class=\"news_tit\" href=\"https://biz.chosun.com/it-science/ict/2021/05/18/TMAEGDIOUBBHVEGJ5BWRNC6AU4/?utm_source=naver&amp;utm_medium=original&amp;utm_campaign=biz\" onclick=\"return goOtherCR(this, 'a=nws*h.tit&amp;r=9&amp;i=88127058_000000000000000000718876&amp;g=366.0000718876&amp;u='+urlencode(this.href));\" target=\"_blank\" title=\"NYT “애플, 中정부에 고객정보 유출…사전 검열 협조”\">NYT “<mark>애플</mark>, 中정부에 고객정보 유출…사전 검열 협조”</a>,\n",
       " <a class=\"news_tit\" href=\"http://www.inews24.com/view/1368277\" onclick=\"return goOtherCR(this, 'a=nws*j.tit&amp;r=14&amp;i=880000D6_000000000000000000599361&amp;g=031.0000599361&amp;u='+urlencode(this.href));\" target=\"_blank\" title=\"애플, 에어팟 유사한 비츠 이어폰 개발\"><mark>애플</mark>, 에어팟 유사한 비츠 이어폰 개발</a>,\n",
       " <a class=\"news_tit\" href=\"http://news.khan.co.kr/kh_news/khan_art_view.html?artid=202105191426001&amp;code=930100\" onclick=\"return goOtherCR(this, 'a=nws*a.tit&amp;r=15&amp;i=8800006B_000000000000000003075028&amp;g=032.0003075028&amp;u='+urlencode(this.href));\" target=\"_blank\" title=\"‘그때그때 다른’ 애플의 개인정보 보호 정책\">‘그때그때 다른’ <mark>애플</mark>의 개인정보 보호 정책</a>,\n",
       " <a class=\"news_tit\" href=\"http://news.mk.co.kr/newsRead.php?no=482068&amp;year=2021\" onclick=\"return goOtherCR(this, 'a=nws*a.tit&amp;r=19&amp;i=880000BC_000000000000000004796166&amp;g=009.0004796166&amp;u='+urlencode(this.href));\" target=\"_blank\" title=\"애플 아마존 페이스북 1%대 하락...다우, 0.78%↓\"><mark>애플</mark> 아마존 페이스북 1%대 하락...다우, 0.78%↓</a>,\n",
       " <a class=\"news_tit\" href=\"http://www.hani.co.kr/arti/economy/economy_general/995725.html\" onclick=\"return goOtherCR(this, 'a=nws*j.tit&amp;r=23&amp;i=88000103_000000000000000002544965&amp;g=028.0002544965&amp;u='+urlencode(this.href));\" target=\"_blank\" title=\"애플-에픽 소송에서 ‘삼성 갤럭시스토어’ 언급한 이유\"><mark>애플</mark>-에픽 소송에서 ‘삼성 갤럭시스토어’ 언급한 이유</a>,\n",
       " <a class=\"news_tit\" href=\"https://zdnet.co.kr/view/?no=20210518232937\" onclick=\"return goOtherCR(this, 'a=nws*j.tit&amp;r=24&amp;i=8800011E_000000000000000002222436&amp;g=092.0002222436&amp;u='+urlencode(this.href));\" target=\"_blank\" title='\"애플, 올 여름 M1칩 맥북 프로 신제품 출시\"'>\"<mark>애플</mark>, 올 여름 M1칩 맥북 프로 신제품 출시\"</a>,\n",
       " <a class=\"news_tit\" href=\"http://www.newspim.com/news/view/20210518001149\" onclick=\"return goOtherCR(this, 'a=nws*f.tit&amp;r=25&amp;i=88000394_000000000000000001814796&amp;g=5002.0001814796&amp;u='+urlencode(this.href));\" target=\"_blank\" title=\"애플 와치도 시금치 광합성 에너지로 충전된다\"><mark>애플</mark> 와치도 시금치 광합성 에너지로 충전된다</a>,\n",
       " <a class=\"news_tit\" href=\"http://www.newsis.com/view/?id=NISX20210518_0001445840&amp;cID=13001&amp;pID=13000\" onclick=\"return goOtherCR(this, 'a=nws*j.tit&amp;r=26&amp;i=88000127_000000000000000010505653&amp;g=003.0010505653&amp;u='+urlencode(this.href));\" target=\"_blank\" title=\"애플, 성소수자 운동 상징하는 '무지개색' 애플워치 밴드 선보여\"><mark>애플</mark>, 성소수자 운동 상징하는 '무지개색' <mark>애플</mark>워치 밴드 선보여</a>]"
      ]
     },
     "execution_count": 5,
     "metadata": {},
     "output_type": "execute_result"
    }
   ],
   "source": [
    "soup.select('.sp_nnews .news_wrap .news_tit')\n"
   ]
  },
  {
   "cell_type": "code",
   "execution_count": null,
   "id": "3364d41b",
   "metadata": {},
   "outputs": [],
   "source": []
  }
 ],
 "metadata": {
  "kernelspec": {
   "display_name": "Python 3",
   "language": "python",
   "name": "python3"
  },
  "language_info": {
   "codemirror_mode": {
    "name": "ipython",
    "version": 3
   },
   "file_extension": ".py",
   "mimetype": "text/x-python",
   "name": "python",
   "nbconvert_exporter": "python",
   "pygments_lexer": "ipython3",
   "version": "3.6.9"
  }
 },
 "nbformat": 4,
 "nbformat_minor": 5
}
