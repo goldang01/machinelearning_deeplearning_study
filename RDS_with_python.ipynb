{
 "cells": [
  {
   "cell_type": "code",
   "execution_count": 1,
   "id": "f382f5d5",
   "metadata": {},
   "outputs": [],
   "source": [
    "import sys\n",
    "import os\n",
    "\n",
    "import pandas as pd\n",
    "import base64\n",
    "import requests\n",
    "import psycopg2 as pg2"
   ]
  },
  {
   "cell_type": "code",
   "execution_count": 2,
   "id": "4a14dc18",
   "metadata": {},
   "outputs": [
    {
     "ename": "OperationalError",
     "evalue": "could not connect to server: Connection timed out\n\tIs the server running on host \"database-1.cbed2shhlul7.ap-northeast-2.rds.amazonaws.com\" (172.31.0.121) and accepting\n\tTCP/IP connections on port 5432?\n",
     "output_type": "error",
     "traceback": [
      "\u001b[0;31m---------------------------------------------------------------------------\u001b[0m",
      "\u001b[0;31mOperationalError\u001b[0m                          Traceback (most recent call last)",
      "\u001b[0;32m<ipython-input-2-0ace77c20409>\u001b[0m in \u001b[0;36m<module>\u001b[0;34m\u001b[0m\n\u001b[1;32m      3\u001b[0m                  \u001b[0mport\u001b[0m\u001b[0;34m=\u001b[0m\u001b[0;34m\"5432\"\u001b[0m\u001b[0;34m,\u001b[0m\u001b[0;34m\u001b[0m\u001b[0;34m\u001b[0m\u001b[0m\n\u001b[1;32m      4\u001b[0m                  \u001b[0muser\u001b[0m\u001b[0;34m=\u001b[0m\u001b[0;34m\"postgres_study\"\u001b[0m\u001b[0;34m,\u001b[0m\u001b[0;34m\u001b[0m\u001b[0;34m\u001b[0m\u001b[0m\n\u001b[0;32m----> 5\u001b[0;31m                  password=\"studypassword\")\n\u001b[0m",
      "\u001b[0;32m~/.local/lib/python3.6/site-packages/psycopg2/__init__.py\u001b[0m in \u001b[0;36mconnect\u001b[0;34m(dsn, connection_factory, cursor_factory, **kwargs)\u001b[0m\n\u001b[1;32m    125\u001b[0m \u001b[0;34m\u001b[0m\u001b[0m\n\u001b[1;32m    126\u001b[0m     \u001b[0mdsn\u001b[0m \u001b[0;34m=\u001b[0m \u001b[0m_ext\u001b[0m\u001b[0;34m.\u001b[0m\u001b[0mmake_dsn\u001b[0m\u001b[0;34m(\u001b[0m\u001b[0mdsn\u001b[0m\u001b[0;34m,\u001b[0m \u001b[0;34m**\u001b[0m\u001b[0mkwargs\u001b[0m\u001b[0;34m)\u001b[0m\u001b[0;34m\u001b[0m\u001b[0;34m\u001b[0m\u001b[0m\n\u001b[0;32m--> 127\u001b[0;31m     \u001b[0mconn\u001b[0m \u001b[0;34m=\u001b[0m \u001b[0m_connect\u001b[0m\u001b[0;34m(\u001b[0m\u001b[0mdsn\u001b[0m\u001b[0;34m,\u001b[0m \u001b[0mconnection_factory\u001b[0m\u001b[0;34m=\u001b[0m\u001b[0mconnection_factory\u001b[0m\u001b[0;34m,\u001b[0m \u001b[0;34m**\u001b[0m\u001b[0mkwasync\u001b[0m\u001b[0;34m)\u001b[0m\u001b[0;34m\u001b[0m\u001b[0;34m\u001b[0m\u001b[0m\n\u001b[0m\u001b[1;32m    128\u001b[0m     \u001b[0;32mif\u001b[0m \u001b[0mcursor_factory\u001b[0m \u001b[0;32mis\u001b[0m \u001b[0;32mnot\u001b[0m \u001b[0;32mNone\u001b[0m\u001b[0;34m:\u001b[0m\u001b[0;34m\u001b[0m\u001b[0;34m\u001b[0m\u001b[0m\n\u001b[1;32m    129\u001b[0m         \u001b[0mconn\u001b[0m\u001b[0;34m.\u001b[0m\u001b[0mcursor_factory\u001b[0m \u001b[0;34m=\u001b[0m \u001b[0mcursor_factory\u001b[0m\u001b[0;34m\u001b[0m\u001b[0;34m\u001b[0m\u001b[0m\n",
      "\u001b[0;31mOperationalError\u001b[0m: could not connect to server: Connection timed out\n\tIs the server running on host \"database-1.cbed2shhlul7.ap-northeast-2.rds.amazonaws.com\" (172.31.0.121) and accepting\n\tTCP/IP connections on port 5432?\n"
     ]
    }
   ],
   "source": [
    "conn=pg2.connect(database=\"studydb\",\n",
    "                 host=\"database-1.cbed2shhlul7.ap-northeast-2.rds.amazonaws.com\",\n",
    "                 port=\"5432\",\n",
    "                 user=\"postgres_study\",\n",
    "                 password=\"studypassword\")"
   ]
  },
  {
   "cell_type": "code",
   "execution_count": null,
   "id": "25874aab",
   "metadata": {},
   "outputs": [],
   "source": [
    "conn=pg2.connect(database=\"studydb\",\n",
    "                 host=\"database-1.cbed2shhlul7.ap-northeast-2.rds.amazonaws.com\",\n",
    "                 port=\"5432\",\n",
    "                 user=\"postgres_study\",\n",
    "                 password=\"studypassword\")"
   ]
  },
  {
   "cell_type": "code",
   "execution_count": null,
   "id": "7d07b12e",
   "metadata": {},
   "outputs": [],
   "source": [
    "# -*- coding: utf-8 -*- import psycopg2 as pg2 \n",
    "conn = ppg2.connect(\"host = database-1.cbed2shhlul7.ap-northeast-2.rds.amazonaws.com\n",
    "                    dbname=studydb\n",
    "                    user=postgres_study\n",
    "                    password=studypassword\n",
    "                    port=5432\")\n",
    "\n"
   ]
  },
  {
   "cell_type": "code",
   "execution_count": null,
   "id": "8fa6755f",
   "metadata": {},
   "outputs": [],
   "source": [
    "conn = ppg2.connect(\"host = localhost dbname=test user=postgres password=1234 port=5432\")\n"
   ]
  },
  {
   "cell_type": "markdown",
   "id": "89dc43e1",
   "metadata": {},
   "source": [
    "database: 초기에 설정한 database 이름\n",
    "host: RDS의 엔드포인트\n",
    "port: 포트 번호. PostgreSQL의 포트번호는 5432\n",
    "user: 마스터 사용자의 이름\n",
    "password: 마스터 암호"
   ]
  },
  {
   "cell_type": "code",
   "execution_count": null,
   "id": "c488735d",
   "metadata": {},
   "outputs": [],
   "source": [
    "cur=conn.cursor()                \n",
    "cur.execute(\"SELECT * FROM rds_test_iris;\")"
   ]
  },
  {
   "cell_type": "code",
   "execution_count": null,
   "id": "b1e4b59c",
   "metadata": {},
   "outputs": [],
   "source": [
    "pd.DataFrame(cur.fetchall())"
   ]
  },
  {
   "cell_type": "code",
   "execution_count": null,
   "id": "d5a559bf",
   "metadata": {},
   "outputs": [],
   "source": []
  }
 ],
 "metadata": {
  "kernelspec": {
   "display_name": "Python 3",
   "language": "python",
   "name": "python3"
  },
  "language_info": {
   "codemirror_mode": {
    "name": "ipython",
    "version": 3
   },
   "file_extension": ".py",
   "mimetype": "text/x-python",
   "name": "python",
   "nbconvert_exporter": "python",
   "pygments_lexer": "ipython3",
   "version": "3.6.9"
  }
 },
 "nbformat": 4,
 "nbformat_minor": 5
}
