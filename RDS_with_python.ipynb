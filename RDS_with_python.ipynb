{
 "cells": [
  {
   "cell_type": "code",
   "execution_count": 1,
   "id": "f382f5d5",
   "metadata": {},
   "outputs": [],
   "source": [
    "import sys\n",
    "import os\n",
    "\n",
    "import pandas as pd\n",
    "import base64\n",
    "import requests\n",
    "import psycopg2 as pg2"
   ]
  },
  {
   "cell_type": "code",
   "execution_count": 2,
   "id": "4a14dc18",
   "metadata": {},
   "outputs": [],
   "source": [
    "conn=pg2.connect(database=\"studydb\",\n",
    "                 host=\"database-1.cbed2shhlul7.ap-northeast-2.rds.amazonaws.com\",\n",
    "                 port=\"5432\",\n",
    "                 user=\"postgres_test\",\n",
    "                 password=\"studypassword\")"
   ]
  },
  {
   "cell_type": "code",
   "execution_count": 3,
   "id": "0de94ef4",
   "metadata": {},
   "outputs": [],
   "source": [
    "# conn.cursor를 통해 Cursor 하나를 생성한다.\n",
    "cur = conn.cursor() \n"
   ]
  },
  {
   "cell_type": "code",
   "execution_count": 4,
   "id": "6b77a521",
   "metadata": {
    "scrolled": true
   },
   "outputs": [
    {
     "data": {
      "text/plain": [
       "<cursor object at 0x7fcbcc63b048; closed: 0>"
      ]
     },
     "execution_count": 4,
     "metadata": {},
     "output_type": "execute_result"
    }
   ],
   "source": [
    "cur"
   ]
  },
  {
   "cell_type": "code",
   "execution_count": 5,
   "id": "39826823",
   "metadata": {},
   "outputs": [],
   "source": [
    "cur.execute(\"CREATE TABLE test1 (id serial PRIMARY KEY, num integer, data varchar);\") \n"
   ]
  },
  {
   "cell_type": "code",
   "execution_count": 6,
   "id": "af7e3a34",
   "metadata": {},
   "outputs": [],
   "source": [
    "cur.execute(\"INSERT INTO test1 (id, num, data) VALUES (%s, %s, %s);\", (1, 100, \"data01\") )\n"
   ]
  },
  {
   "cell_type": "code",
   "execution_count": 7,
   "id": "49f46703",
   "metadata": {},
   "outputs": [
    {
     "name": "stdout",
     "output_type": "stream",
     "text": [
      "1, 100, data01\n"
     ]
    }
   ],
   "source": [
    "cur.execute(\"SELECT * FROM test1\") \n",
    "(id, num, data) = cur.fetchone() \n",
    "print(f\"{id}, {num}, {data}\")"
   ]
  },
  {
   "cell_type": "code",
   "execution_count": 8,
   "id": "e25395fb",
   "metadata": {
    "scrolled": false
   },
   "outputs": [
    {
     "data": {
      "text/html": [
       "<div>\n",
       "<style scoped>\n",
       "    .dataframe tbody tr th:only-of-type {\n",
       "        vertical-align: middle;\n",
       "    }\n",
       "\n",
       "    .dataframe tbody tr th {\n",
       "        vertical-align: top;\n",
       "    }\n",
       "\n",
       "    .dataframe thead th {\n",
       "        text-align: right;\n",
       "    }\n",
       "</style>\n",
       "<table border=\"1\" class=\"dataframe\">\n",
       "  <thead>\n",
       "    <tr style=\"text-align: right;\">\n",
       "      <th></th>\n",
       "    </tr>\n",
       "  </thead>\n",
       "  <tbody>\n",
       "  </tbody>\n",
       "</table>\n",
       "</div>"
      ],
      "text/plain": [
       "Empty DataFrame\n",
       "Columns: []\n",
       "Index: []"
      ]
     },
     "execution_count": 8,
     "metadata": {},
     "output_type": "execute_result"
    }
   ],
   "source": [
    "pd.DataFrame(cur.fetchall())"
   ]
  },
  {
   "cell_type": "code",
   "execution_count": 9,
   "id": "6524dd5c",
   "metadata": {},
   "outputs": [],
   "source": [
    "cur.close() "
   ]
  }
 ],
 "metadata": {
  "kernelspec": {
   "display_name": "Python 3",
   "language": "python",
   "name": "python3"
  },
  "language_info": {
   "codemirror_mode": {
    "name": "ipython",
    "version": 3
   },
   "file_extension": ".py",
   "mimetype": "text/x-python",
   "name": "python",
   "nbconvert_exporter": "python",
   "pygments_lexer": "ipython3",
   "version": "3.6.9"
  }
 },
 "nbformat": 4,
 "nbformat_minor": 5
}
