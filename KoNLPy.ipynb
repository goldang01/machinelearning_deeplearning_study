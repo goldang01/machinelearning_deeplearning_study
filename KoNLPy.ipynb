{
 "cells": [
  {
   "cell_type": "markdown",
   "id": "6ff0b64d",
   "metadata": {},
   "source": [
    "# KoNLPy _ \"코엔엘파이\"  _  파이썬 한국어 NLP\n",
    "\n",
    "- 우리는 KoNLPy의 설치 방법과 간단한 예를 남겨보려 한다.\n",
    "\n",
    "\n",
    "- NLP란? (Natural Language Processing, 자연어처리)의 준말이며, 텍스트레서 의미있는 정보를 분석, 추출, 이해 하는 기술집합.\n",
    "- 우리 일상에서도 쉽게 응용사례를 볼 수 있다.\n",
    "    - 대화 시스템(Apple Siri) 기계 번역(Google Translate)\n",
    "    - 대통령연설 내용 분석 또한 텍스트마이닝.."
   ]
  },
  {
   "cell_type": "markdown",
   "id": "b1c3328a",
   "metadata": {},
   "source": [
    "##### KoNLPy (코엔엘파이) : 대표적인 한국어 형태소 분석기 [자연어처리]\n",
    "\n",
    "크롤링하여 간단한 정규 표현식으로 필터링 한 데이터를 어떻게 처리해서 사용할까? (BeautifulSoup 모듈을 통해 웹 페이지 크롤링 하는 방법이 있다.) 수 많은 데이터를 공백이나 엔터를 기준으로 여러 개의 토큰으로 나누고, 필요 없는 데이터를 제거하고, 필요한 데이터들을 추출해내는 행위를 데이터 전처리 (Data Processing)이라고 하는데, 데이터를 가공하는 과정중에 하나이다. 데이터를 전처리하는 단계 중 자연어를 처리하는 것은 기본적이고 필수사항이다.\n",
    "\n",
    "KoNLPy는 파이썬 프로그래밍 언어로 사용할 수 있도록 만들어졌는데, 그것은 파이썬이 간결하고 우아한 문법구조, 강력한 스트링 연산 기능을 가지고 있을 뿐 아니라 크롤링, 웹프로그래밍, 그리고 데이터 분석을 수행할 수 있는 다양한 패키지를 사용할 수 있는 언어이기 때문이다.\n",
    "\n",
    "- 자연어 처리 방법 중 데이터의 형태소를 분석하고 추출해내고자 한다.\n",
    "    - 형태소로 나눈다면 크게 명사, 동사, 형용사, 부사, 조사, 접사, 관형사, 어미 ... 등등으로 나뉜다.\n",
    "    - 한국어를 처리 할때는 대체로 KoNLPy(코엔엘파이) 라이브러리를 많이 사용한다.\n",
    "    - Korean Natural Language Processing in Python의 준말.\n",
    "\n",
    "\n",
    "\n",
    "- 단점: \n",
    "    - 자바 기반으로 python 개발자의 경우 설치시 jdk 설치, visual studio설치, wheel 설정 등의 에러 발생 가능성이 높다.\n",
    "    - 사용자 사전 등록시 형태소 분석이 될 때가 있고 아닐 때도 있다고함.\n",
    "- 장점:\n",
    "    - 내부에 twitter, Kkma, hannanum, komaran 형태소 분석기 사용 가능"
   ]
  },
  {
   "cell_type": "markdown",
   "id": "579854d4",
   "metadata": {},
   "source": [
    "### 설치하기 (with 우분투)\n",
    "\n",
    "- 명령 프롬프트로 KoNLPy 설치하기\n",
    "\n",
    "\n",
    "<center>\n",
    "<img src=\"https://img1.daumcdn.net/thumb/R1280x0/?scode=mtistory2&fname=https%3A%2F%2Fblog.kakaocdn.net%2Fdn%2FcbaV3t%2Fbtq40Q8eUQD%2FnwGGpwvSjiz0DZJRMlP8c0%2Fimg.png\" width=\"600\" height=\"350\"><br>\n",
    "</center>\n",
    "\n",
    "\n"
   ]
  },
  {
   "cell_type": "code",
   "execution_count": 13,
   "id": "f147e67a",
   "metadata": {},
   "outputs": [],
   "source": [
    "# $ sudo apt-get install g++ openjdk-7-jdk    # Install Java 1.7+\n",
    "# $ sudo apt-get install python-dev; pip install konlpy       # Python 2.x\n",
    "# $ sudo apt-get install python3-dev; pip3 install konlpy     # Python 3.x"
   ]
  },
  {
   "cell_type": "markdown",
   "id": "3e0de628",
   "metadata": {},
   "source": [
    "### 간단한 예"
   ]
  },
  {
   "cell_type": "code",
   "execution_count": 29,
   "id": "6b40d4df",
   "metadata": {},
   "outputs": [],
   "source": [
    "from konlpy.tag import Kkma\n",
    "from konlpy.utils import pprint"
   ]
  },
  {
   "cell_type": "code",
   "execution_count": 30,
   "id": "9b5833a7",
   "metadata": {},
   "outputs": [
    {
     "name": "stdout",
     "output_type": "stream",
     "text": [
      "['네, 안녕하세요.', '반갑습니다.']\n"
     ]
    }
   ],
   "source": [
    "kkma = Kkma()\n",
    "pprint(kkma.sentences(u'네, 안녕하세요. 반갑습니다.'))"
   ]
  },
  {
   "cell_type": "code",
   "execution_count": 41,
   "id": "e9721b6c",
   "metadata": {},
   "outputs": [
    {
     "name": "stdout",
     "output_type": "stream",
     "text": [
      "['질문', '건의', '건의사항', '사항', '로그']\n"
     ]
    }
   ],
   "source": [
    "pprint(kkma.nouns(u'질문이나 건의사항은 블로그에 남겨주세요.'))"
   ]
  },
  {
   "cell_type": "code",
   "execution_count": 36,
   "id": "6ff44444",
   "metadata": {},
   "outputs": [],
   "source": [
    "resume = \"코로나 이후에 세상은 급격하게 변하고있으며, 대면 시스템에서 비대면 시스템으로 변화하고 있으며 IT의 중요성이 점차 커지고 있다.\""
   ]
  },
  {
   "cell_type": "code",
   "execution_count": 37,
   "id": "9dc551d0",
   "metadata": {},
   "outputs": [
    {
     "name": "stdout",
     "output_type": "stream",
     "text": [
      "['코로나', '이후', '세상', '대면', '시스템', '변화', '중요성']\n"
     ]
    }
   ],
   "source": [
    "pprint(kkma.nouns(resume))"
   ]
  },
  {
   "cell_type": "code",
   "execution_count": 38,
   "id": "3c700f3f",
   "metadata": {},
   "outputs": [
    {
     "name": "stdout",
     "output_type": "stream",
     "text": [
      "[('코로나', 'NNG'),\n",
      " ('이후', 'NNG'),\n",
      " ('에', 'JKM'),\n",
      " ('세상', 'NNG'),\n",
      " ('은', 'JX'),\n",
      " ('급격', 'XR'),\n",
      " ('하', 'XSA'),\n",
      " ('게', 'ECD'),\n",
      " ('변하', 'VV'),\n",
      " ('고', 'ECE'),\n",
      " ('있', 'VXV'),\n",
      " ('으며', 'ECE'),\n",
      " (',', 'SP'),\n",
      " ('대면', 'NNG'),\n",
      " ('시스템', 'NNG'),\n",
      " ('에서', 'JKM'),\n",
      " ('비', 'XPN'),\n",
      " ('대면', 'NNG'),\n",
      " ('시스템', 'NNG'),\n",
      " ('으로', 'JKM'),\n",
      " ('변화', 'NNG'),\n",
      " ('하', 'XSV'),\n",
      " ('고', 'ECE'),\n",
      " ('있', 'VXV'),\n",
      " ('으며', 'ECE'),\n",
      " ('IT', 'OL'),\n",
      " ('의', 'JKG'),\n",
      " ('중요성', 'NNG'),\n",
      " ('이', 'JKS'),\n",
      " ('점차', 'MAG'),\n",
      " ('커지', 'VV'),\n",
      " ('고', 'ECE'),\n",
      " ('있', 'VXV'),\n",
      " ('다', 'EFN'),\n",
      " ('.', 'SF')]\n"
     ]
    }
   ],
   "source": [
    " pprint(kkma.pos(resume))"
   ]
  },
  {
   "cell_type": "markdown",
   "id": "dd0af907",
   "metadata": {},
   "source": [
    "- 출처:\n",
    "    - [(깃헙_konlpy)](https://github.com/konlpy/konlpy)\n",
    "    - [(KoNLPy: 파이썬 한국어 NLP)](https://konlpy-ko.readthedocs.io/ko/v0.4.3/#)"
   ]
  }
 ],
 "metadata": {
  "kernelspec": {
   "display_name": "Python 3",
   "language": "python",
   "name": "python3"
  },
  "language_info": {
   "codemirror_mode": {
    "name": "ipython",
    "version": 3
   },
   "file_extension": ".py",
   "mimetype": "text/x-python",
   "name": "python",
   "nbconvert_exporter": "python",
   "pygments_lexer": "ipython3",
   "version": "3.6.9"
  }
 },
 "nbformat": 4,
 "nbformat_minor": 5
}
