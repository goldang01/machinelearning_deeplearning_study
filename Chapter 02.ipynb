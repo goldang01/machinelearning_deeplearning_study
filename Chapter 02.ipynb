{
 "cells": [
  {
   "cell_type": "markdown",
   "id": "61863d6d",
   "metadata": {},
   "source": [
    "<center>\n",
    "<img src=\"https://tensorflowkorea.files.wordpress.com/2020/12/4.-e18492e185a9e186abe1848ce185a1-e18480e185a9e186bce18487e185aee18492e185a1e18482e185b3e186ab-e18486e185a5e18489e185b5e186abe18485e185a5e18482e185b5e186bce18483e185b5e186b8e18485e185a5e.png?w=972\" width=\"250\" height=\"250\"><br>\n",
    "</center>\n",
    "\n",
    "\n",
    " - (https://bit.ly/hg-01-3)"
   ]
  },
  {
   "cell_type": "markdown",
   "id": "6ba4a0a7",
   "metadata": {},
   "source": [
    "# Chapter 02 데이터 다루기 (수상한 생선을 조심하라!)\n",
    "\n",
    "\n",
    "- 학습목표\n",
    "    - 머신러닝 알고리즘에 주입할 데이터를 준비하는 방법을 배운다.\n",
    "    - 데이터 형태가 알고리즘에 미치는 영향을 이해한다.\n",
    "\n",
    "### 02-1 훈련 세트와 테스트 세트\n",
    "  \n",
    "- 핵심키워드\n",
    "    - 지도학습, 비지도 학습, 훈련세트, 테스트 세트\n",
    "    - 지도 학습과 비지도 학습의 차이를 배운다. 모델을 훈련시키는 훈련 세트와 모델 평가하기 위한 테스트 세트로 데이터를 나눠서 학습해본다.\n",
    "    \n",
    "#### 지도 학습과 비지도 학습\n",
    "\n",
    "\n",
    "\n",
    "    "
   ]
  },
  {
   "cell_type": "code",
   "execution_count": null,
   "id": "ab18351c",
   "metadata": {},
   "outputs": [],
   "source": []
  }
 ],
 "metadata": {
  "kernelspec": {
   "display_name": "Python 3",
   "language": "python",
   "name": "python3"
  },
  "language_info": {
   "codemirror_mode": {
    "name": "ipython",
    "version": 3
   },
   "file_extension": ".py",
   "mimetype": "text/x-python",
   "name": "python",
   "nbconvert_exporter": "python",
   "pygments_lexer": "ipython3",
   "version": "3.6.9"
  }
 },
 "nbformat": 4,
 "nbformat_minor": 5
}
