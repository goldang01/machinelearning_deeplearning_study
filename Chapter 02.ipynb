{
 "cells": [
  {
   "cell_type": "markdown",
   "id": "ac9408d7",
   "metadata": {},
   "source": [
    "<center>\n",
    "<img src=\"https://tensorflowkorea.files.wordpress.com/2020/12/4.-e18492e185a9e186abe1848ce185a1-e18480e185a9e186bce18487e185aee18492e185a1e18482e185b3e186ab-e18486e185a5e18489e185b5e186abe18485e185a5e18482e185b5e186bce18483e185b5e186b8e18485e185a5e.png?w=972\" width=\"250\" height=\"250\"><br>\n",
    "</center>\n",
    "\n",
    "\n",
    " - (https://bit.ly/hg-01-3)"
   ]
  },
  {
   "cell_type": "markdown",
   "id": "9a477d2c",
   "metadata": {},
   "source": [
    "# Chapter 02 데이터 다루기 (수상한 생선을 조심하라!)\n",
    "\n",
    "\n",
    "- 학습목표\n",
    "    - 머신러닝 알고리즘에 주입할 데이터를 준비하는 방법을 배운다.\n",
    "    - 데이터 형태가 알고리즘에 미치는 영향을 이해한다.\n",
    "\n",
    "### 02-1 훈련 세트와 테스트 세트\n",
    "  \n",
    "- 핵심키워드\n",
    "    - 지도학습, 비지도 학습, 훈련세트, 테스트 세트\n",
    "    - 지도 학습과 비지도 학습의 차이를 배운다. 모델을 훈련시키는 훈련 세트와 모델 평가하기 위한 테스트 세트로 데이터를 나눠서 학습해본다.\n",
    "    \n",
    "#### 지도 학습과 비지도 학습\n",
    "\n",
    "머신러닝 알고리즘은 크게 **지도 학습 supervised learning**과 **비지도 학습 unsupervised learning** 으로 나눌 수 있다. 지도 학습 알고리즘은 훈련하기 위한 데이터와 정답이 필요하다. '마켓과 러닝머신'에서 보았던 도미와 빙어의 예를 보면 생선의 길이와 무게를 알고리즘에 사용했습니다. 이 경우 정답은 도미인지 아닌지 여부입니다. 지도 학습에서는 데이터와 정답을 **입력 input**과 **타깃 target**이라고 하고, 이 둘을 합쳐 **훈련 데이터 training data**라고 부른다. 그리고 앞서 언급했듯이 입력으로 사용된 길이와 무게를 **특성 feature**이라고 한다. 도미와 빙어를 구분하는 데 사용한 길이와 무게가 특성이다. 앞으로 입력,타깃,특성,훈련 데이터와 같은 용어가 자주 등장하니 잘 기억하자. 지도 학습은 정답(타깃)이 있으니 알고리즘이 정답을 맞히는 것을 학습한다. 예를 들어 도미인지 빙어인지 구분하는 거다. 반면 비지도 학습 알고리즘은 타깃 없이 입력 데이터만 사용한다. 이런 종류의 알고리즘은 정답을 사용하지 않으므로 무언가를 맞힐 수가 없다. 대신 데이터를 잘 파악하거나 변형하는 데 도움을 준다. 1장에서 도미와 빙어를 구분하기 위해 사용한 k-최근접 이웃 알고리즘은 입력 데이터와 타깃(정답)을 사용했으므로 당연히 지도 학습 알고리즘이다. 이 알고리즘을 훈련하여 생선이 도미인지 아닌지를 판별하고, 이 모델이 훈련 데이터에서 도미를 100% 완벽하게 판별했다. 모든 것이 잘 된것 같은데 무엇이 문제일까?\n",
    "\n",
    "#### 훈련세트와 테스트세트\n",
    "\n",
    "중간고사를 보기 전에 출제될 시험 문제와 정답을 미리 알려주고 시험을 본다면 어떨까? 시험문제와 정답만 외우면 100점을 맞을 것이다. 머신러닝도 이와 마찬가지이다. 도미와 빙어의 데이터와 타깃을 주고 훈련한 다음, 같은 데이터로 테스트한다면 모두 맞히는 것이 당연하다. 연습 문제와 시험문제가 달라야 올바르게 학생의 능력을 평가할 수 있듯이 머신러닝 알고리즘의 성능을 제대로 평가하려면 훈련 데이터와 평가에 사용할 데이터가 각각 달라야 한다. 이렇게 하는 가장 간단한 방법은 평가를 위해 또 다른 데이터를 준비하거나 이미 준비된 데이터 중에서 일부를 떼어 내어 활용하는 것이다. 일반적으로 후자의 경우가 많다. 평가에 사용하는 데이터를 **테스트 세트 test set** , 훈련에 사용되는 데이터를 **훈련세트 train set**라고 부른다. 정리해보면 훈련에 사용한 데이터로 모델을 평가하는 것은 적절하지 않다. 훈련할 때 사용하지 않은 데이터로 평가해야한다. 이를 위해 훈련 데이터에서 일부를 떼어 내어 테스트 세트로 사용하겠다.\n",
    "\n",
    "- 먼저 1장에서 처럼 도미와 빙어의 데이터를 합쳐 하나의 파이썬 리스트로 준비한다. http://bit.ly/bream_smelt\n",
    "    "
   ]
  },
  {
   "cell_type": "code",
   "execution_count": 13,
   "id": "1a64c8e7",
   "metadata": {},
   "outputs": [],
   "source": [
    "fish_length = [25.4, 26.3, 26.5, 29.0, 29.0, 29.7, 29.7, 30.0, 30.0, 30.7, 31.0, 31.0, \n",
    "                31.5, 32.0, 32.0, 32.0, 33.0, 33.0, 33.5, 33.5, 34.0, 34.0, 34.5, 35.0, \n",
    "                35.0, 35.0, 35.0, 36.0, 36.0, 37.0, 38.5, 38.5, 39.5, 41.0, 41.0, 9.8, \n",
    "                10.5, 10.6, 11.0, 11.2, 11.3, 11.8, 11.8, 12.0, 12.2, 12.4, 13.0, 14.3, 15.0]\n",
    "fish_weight = [242.0, 290.0, 340.0, 363.0, 430.0, 450.0, 500.0, 390.0, 450.0, 500.0, 475.0, 500.0, \n",
    "                500.0, 340.0, 600.0, 600.0, 700.0, 700.0, 610.0, 650.0, 575.0, 685.0, 620.0, 680.0, \n",
    "                700.0, 725.0, 720.0, 714.0, 850.0, 1000.0, 920.0, 955.0, 925.0, 975.0, 950.0, 6.7, \n",
    "                7.5, 7.0, 9.7, 9.8, 8.7, 10.0, 9.9, 9.8, 12.2, 13.4, 12.2, 19.7, 19.9]"
   ]
  },
  {
   "cell_type": "markdown",
   "id": "d694abeb",
   "metadata": {},
   "source": [
    "- 이제 두 파이썬 리스트를 순회하면서 각 생선의 길이와 무게를 하나의 리스트로 담은 2차원 리스트를 만들자."
   ]
  },
  {
   "cell_type": "code",
   "execution_count": 14,
   "id": "47283c57",
   "metadata": {},
   "outputs": [],
   "source": [
    "fish_data = [[l,w] for l, w in zip(fish_length, fish_weight)]\n",
    "fish_target = [1]*35 + [0]*14"
   ]
  },
  {
   "cell_type": "markdown",
   "id": "c02c2db4",
   "metadata": {},
   "source": [
    "이때 하나의 생선 데이터를 **샘플 sample** 이라고 부른다. 도미와 빙어는 각각35마리, 14마리가 있으므로 전체 데이터는 49개의 샘플이 있다.사용하는 특성은 길이와 무게 2개이다. 이 데이터의 처음 35개를 훈련세트로, 나머지 14개를 테스트 세트로 사용하겠다."
   ]
  },
  {
   "cell_type": "markdown",
   "id": "ce103d67",
   "metadata": {},
   "source": [
    "- 먼저 사이킷런의 KNeighborsClassifier 클래스를 임포트하고 모델 객체를 만든다."
   ]
  },
  {
   "cell_type": "code",
   "execution_count": 15,
   "id": "fe7ba85a",
   "metadata": {},
   "outputs": [],
   "source": [
    "from sklearn.neighbors import KNeighborsClassifier\n",
    "kn = KNeighborsClassifier()"
   ]
  },
  {
   "cell_type": "markdown",
   "id": "f184db66",
   "metadata": {},
   "source": [
    "이제 전체 데이터에서 처음 35개를 선택해야 한다. 일반적으로 리스트처럼 배열의 요소를 선택할 때는 배열의 위치, 즉 **인덱스 index**를 지정한다. 예를 들어 fish_data의 다섯 번째 샘플을 출력하기 위해 다음과 같이 쓸 수 있다."
   ]
  },
  {
   "cell_type": "code",
   "execution_count": 16,
   "id": "b6e32ba3",
   "metadata": {},
   "outputs": [
    {
     "name": "stdout",
     "output_type": "stream",
     "text": [
      "[29.0, 430.0]\n"
     ]
    }
   ],
   "source": [
    "print(fish_data[4])"
   ]
  },
  {
   "cell_type": "markdown",
   "id": "04c0cfbe",
   "metadata": {},
   "source": [
    "파이썬 리스트는 인덱스 외에도 **슬라이싱**이라는 특별한 연산자를 제공한다. 슬라이싱은 콜론(:)을 가운데 두고 인덱스의 범위를 지정하여 여러 개의 원소를 선택할 수 있다. 예를 들어 첫 번째부터 다섯 번째까지의 샘플을 선택해보자."
   ]
  },
  {
   "cell_type": "code",
   "execution_count": 17,
   "id": "14e8a3c0",
   "metadata": {},
   "outputs": [
    {
     "name": "stdout",
     "output_type": "stream",
     "text": [
      "[[25.4, 242.0], [26.3, 290.0], [26.5, 340.0], [29.0, 363.0], [29.0, 430.0]]\n"
     ]
    }
   ],
   "source": [
    "print(fish_data[0:5])"
   ]
  },
  {
   "cell_type": "markdown",
   "id": "bd31d4c7",
   "metadata": {},
   "source": [
    "배열의 인덱스는 0부터 시작한다. "
   ]
  },
  {
   "cell_type": "markdown",
   "id": "1e01b3ad",
   "metadata": {},
   "source": [
    "리스트의 리스트로 5개의 샘플이 선택되었다. 슬라이싱을 사용할 때는 **마지막 인덱스의 원소는 포함되지 않는다**는 점을 주의해야 한다. 예를 들어 '0:5'와 같이 지정했다면 0~4까지의 5개 원소만 선택되고 인덱스 5인 여섯 번째 원소는 선택되지 않는다. 만약 '0:5'와 같이 처음부터 시작되는 슬라이싱의 경우 0을 생략하고 쓸 수 있다."
   ]
  },
  {
   "cell_type": "code",
   "execution_count": 18,
   "id": "3bf6f0bc",
   "metadata": {},
   "outputs": [
    {
     "name": "stdout",
     "output_type": "stream",
     "text": [
      "[[25.4, 242.0], [26.3, 290.0], [26.5, 340.0], [29.0, 363.0], [29.0, 430.0]]\n"
     ]
    }
   ],
   "source": [
    "print(fish_data[:5])"
   ]
  },
  {
   "cell_type": "markdown",
   "id": "3377ea7b",
   "metadata": {},
   "source": [
    "- [  ]안에 0 생략해도 같게 나옴."
   ]
  },
  {
   "cell_type": "markdown",
   "id": "a67ef0fc",
   "metadata": {},
   "source": [
    "이와 비슷하게 마지막 원소까지 포함할 경우 두 번째 인덱스를 생략할 수 있다. 예를 들어 마지막에서 5개의 샘플을 출력할 때 '44:49'와 같이 쓰지 않고 '44:'만 써도 된다."
   ]
  },
  {
   "cell_type": "code",
   "execution_count": 19,
   "id": "a300fb11",
   "metadata": {},
   "outputs": [
    {
     "name": "stdout",
     "output_type": "stream",
     "text": [
      "[[12.2, 12.2], [12.4, 13.4], [13.0, 12.2], [14.3, 19.7], [15.0, 19.9]]\n"
     ]
    }
   ],
   "source": [
    "print(fish_data[44:])"
   ]
  },
  {
   "cell_type": "code",
   "execution_count": 20,
   "id": "fbe1da06",
   "metadata": {},
   "outputs": [
    {
     "name": "stdout",
     "output_type": "stream",
     "text": [
      "[[12.2, 12.2], [12.4, 13.4], [13.0, 12.2], [14.3, 19.7], [15.0, 19.9]]\n"
     ]
    }
   ],
   "source": [
    "print(fish_data[44:49])"
   ]
  },
  {
   "cell_type": "markdown",
   "id": "5c4fc5e3",
   "metadata": {},
   "source": [
    "이를 응용하면 생선 데이터에서 처음 35개와 나머지 14개를 선택하는 것을 간단하게 처리 할 수 있다."
   ]
  },
  {
   "cell_type": "code",
   "execution_count": 26,
   "id": "713b842a",
   "metadata": {},
   "outputs": [],
   "source": [
    "# 훈련 세트로 입력값 중 0부터 34번째 인덱스까지 사용\n",
    "\n",
    "train_input = fish_data[:35]\n",
    "\n",
    "# 훈련 세트로 타깃값 중 0부터 34번째 인덱스까지 사용\n",
    "\n",
    "train_target = fish_target[:35]\n",
    "\n",
    "# 테스트 세트로 입력값 중 35번째부터 마지막 인덱스까지 사용\n",
    "\n",
    "test_input = fish_data[35:]\n",
    "\n",
    "# 테스트 세트로 타깃값 중 35번째부터 마지막 인덱스까지 사용\n",
    "\n",
    "test_target = fish_target[35:]"
   ]
  },
  {
   "cell_type": "markdown",
   "id": "db046107",
   "metadata": {},
   "source": [
    "슬라이싱 연산으로 인덱스 0~34까지 처음 35개 샘플을 훈련 세트로 선택했고, 인덱스 35~48까지 나머지 14개 샘플을 테스트 세트로 선택했다. 데이터를 준비했으니 훈련 세트로 fit() 메서드를 호출해 모델을 훈련하고, 테스트 세트로 score() 메서드를 호출해 평가해 보자."
   ]
  },
  {
   "cell_type": "code",
   "execution_count": 27,
   "id": "ebac2a06",
   "metadata": {},
   "outputs": [
    {
     "data": {
      "text/plain": [
       "0.0"
      ]
     },
     "execution_count": 27,
     "metadata": {},
     "output_type": "execute_result"
    }
   ],
   "source": [
    "kn = kn.fit(train_input, train_target)\n",
    "kn.score(test_input, test_target)"
   ]
  },
  {
   "cell_type": "markdown",
   "id": "9f905c88",
   "metadata": {},
   "source": [
    "- ??!?! 정확도가 0.0이다. 머신러닝 모델이 최악의 성능을 내고 있다. 무엇이 문제일까?"
   ]
  },
  {
   "cell_type": "code",
   "execution_count": null,
   "id": "45582cb4",
   "metadata": {},
   "outputs": [],
   "source": []
  }
 ],
 "metadata": {
  "kernelspec": {
   "display_name": "Python 3",
   "language": "python",
   "name": "python3"
  },
  "language_info": {
   "codemirror_mode": {
    "name": "ipython",
    "version": 3
   },
   "file_extension": ".py",
   "mimetype": "text/x-python",
   "name": "python",
   "nbconvert_exporter": "python",
   "pygments_lexer": "ipython3",
   "version": "3.6.9"
  }
 },
 "nbformat": 4,
 "nbformat_minor": 5
}
